{
 "cells": [
  {
   "cell_type": "code",
   "execution_count": 1,
   "id": "3e21d0f5",
   "metadata": {},
   "outputs": [],
   "source": [
    "language = 'python'"
   ]
  },
  {
   "cell_type": "code",
   "execution_count": 5,
   "id": "071edeca",
   "metadata": {},
   "outputs": [],
   "source": [
    "lang = list (language)"
   ]
  },
  {
   "cell_type": "code",
   "execution_count": 6,
   "id": "bd6b340e",
   "metadata": {},
   "outputs": [
    {
     "data": {
      "text/plain": [
       "['p', 'y', 't', 'h', 'o', 'n']"
      ]
     },
     "execution_count": 6,
     "metadata": {},
     "output_type": "execute_result"
    }
   ],
   "source": [
    "lang "
   ]
  },
  {
   "cell_type": "code",
   "execution_count": null,
   "id": "39c5701c",
   "metadata": {},
   "outputs": [],
   "source": [
    "nums = [1, 2, 3, 4, 5,6, 7, 8, 9, 10]"
   ]
  },
  {
   "cell_type": "code",
   "execution_count": 18,
   "id": "79a29e59",
   "metadata": {},
   "outputs": [],
   "source": [
    "# tuple - orerderd nd imutable \n",
    "EAC = ('Keneya', 'uganda''tanzania')"
   ]
  },
  {
   "cell_type": "code",
   "execution_count": 3,
   "id": "4fdc6dfb",
   "metadata": {},
   "outputs": [
    {
     "ename": "NameError",
     "evalue": "name 'EAC' is not defined",
     "output_type": "error",
     "traceback": [
      "\u001b[1;31m---------------------------------------------------------------------------\u001b[0m",
      "\u001b[1;31mNameError\u001b[0m                                 Traceback (most recent call last)",
      "Cell \u001b[1;32mIn[3], line 1\u001b[0m\n\u001b[1;32m----> 1\u001b[0m \u001b[38;5;28mtype\u001b[39m(EAC)\n",
      "\u001b[1;31mNameError\u001b[0m: name 'EAC' is not defined"
     ]
    }
   ],
   "source": [
    "type(EAC)\n"
   ]
  },
  {
   "cell_type": "code",
   "execution_count": null,
   "id": "df753a68",
   "metadata": {},
   "outputs": [],
   "source": []
  },
  {
   "cell_type": "code",
   "execution_count": null,
   "id": "f3656e46",
   "metadata": {},
   "outputs": [],
   "source": [
    "age = (18,19.20,21,22.23,24,25,26,27,28,29,30) "
   ]
  },
  {
   "cell_type": "code",
   "execution_count": 1,
   "id": "bfa18454",
   "metadata": {},
   "outputs": [],
   "source": [
    "square_1={1:1, 2:4, 3:9, 4:16, 5:25,}"
   ]
  },
  {
   "cell_type": "code",
   "execution_count": 2,
   "id": "91720320",
   "metadata": {},
   "outputs": [
    {
     "data": {
      "text/plain": [
       "{1: 1, 2: 4, 3: 9, 4: 16, 5: 25}"
      ]
     },
     "execution_count": 2,
     "metadata": {},
     "output_type": "execute_result"
    }
   ],
   "source": [
    "square_1"
   ]
  },
  {
   "cell_type": "code",
   "execution_count": 4,
   "id": "475eac16",
   "metadata": {},
   "outputs": [],
   "source": [
    "import pandas as pd \n",
    "s_df = pd.DataFrame(square_1,index=[2])"
   ]
  },
  {
   "cell_type": "code",
   "execution_count": 5,
   "id": "e716f0cf",
   "metadata": {},
   "outputs": [
    {
     "data": {
      "text/html": [
       "<div>\n",
       "<style scoped>\n",
       "    .dataframe tbody tr th:only-of-type {\n",
       "        vertical-align: middle;\n",
       "    }\n",
       "\n",
       "    .dataframe tbody tr th {\n",
       "        vertical-align: top;\n",
       "    }\n",
       "\n",
       "    .dataframe thead th {\n",
       "        text-align: right;\n",
       "    }\n",
       "</style>\n",
       "<table border=\"1\" class=\"dataframe\">\n",
       "  <thead>\n",
       "    <tr style=\"text-align: right;\">\n",
       "      <th></th>\n",
       "      <th>1</th>\n",
       "      <th>2</th>\n",
       "      <th>3</th>\n",
       "      <th>4</th>\n",
       "      <th>5</th>\n",
       "    </tr>\n",
       "  </thead>\n",
       "  <tbody>\n",
       "    <tr>\n",
       "      <th>2</th>\n",
       "      <td>1</td>\n",
       "      <td>4</td>\n",
       "      <td>9</td>\n",
       "      <td>16</td>\n",
       "      <td>25</td>\n",
       "    </tr>\n",
       "  </tbody>\n",
       "</table>\n",
       "</div>"
      ],
      "text/plain": [
       "   1  2  3   4   5\n",
       "2  1  4  9  16  25"
      ]
     },
     "execution_count": 5,
     "metadata": {},
     "output_type": "execute_result"
    }
   ],
   "source": [
    "s_df"
   ]
  },
  {
   "cell_type": "code",
   "execution_count": 6,
   "id": "d30e5f90",
   "metadata": {},
   "outputs": [
    {
     "data": {
      "text/plain": [
       "[{1: 1, 2: 4, 3: 9, 4: 16, 5: 25}]"
      ]
     },
     "execution_count": 6,
     "metadata": {},
     "output_type": "execute_result"
    }
   ],
   "source": [
    "s_2=[square_1]\n",
    "s_2"
   ]
  },
  {
   "cell_type": "code",
   "execution_count": 7,
   "id": "194ce042",
   "metadata": {},
   "outputs": [
    {
     "data": {
      "text/plain": [
       "list"
      ]
     },
     "execution_count": 7,
     "metadata": {},
     "output_type": "execute_result"
    }
   ],
   "source": [
    "type(s_2)"
   ]
  },
  {
   "cell_type": "code",
   "execution_count": 8,
   "id": "c2498052",
   "metadata": {},
   "outputs": [
    {
     "data": {
      "text/plain": [
       "dict_keys([1, 2, 3, 4, 5])"
      ]
     },
     "execution_count": 8,
     "metadata": {},
     "output_type": "execute_result"
    }
   ],
   "source": [
    "square_1.keys()"
   ]
  },
  {
   "cell_type": "code",
   "execution_count": 10,
   "id": "a178180b",
   "metadata": {},
   "outputs": [
    {
     "data": {
      "text/plain": [
       "16"
      ]
     },
     "execution_count": 10,
     "metadata": {},
     "output_type": "execute_result"
    }
   ],
   "source": [
    "square_1[4]"
   ]
  },
  {
   "cell_type": "code",
   "execution_count": null,
   "id": "21492f0e",
   "metadata": {},
   "outputs": [],
   "source": [
    "s_2=[square_1]"
   ]
  },
  {
   "cell_type": "code",
   "execution_count": null,
   "id": "78a14d1d",
   "metadata": {},
   "outputs": [],
   "source": [
    "[]pip install requests"
   ]
  },
  {
   "cell_type": "code",
   "execution_count": 15,
   "id": "a5255a6b",
   "metadata": {},
   "outputs": [
    {
     "data": {
      "text/plain": [
       "{'data': {'amount': '4168.305', 'base': 'ETH', 'currency': 'USD'}}"
      ]
     },
     "execution_count": 15,
     "metadata": {},
     "output_type": "execute_result"
    }
   ],
   "source": [
    "import requests as rq\n",
    "api='https://api.coinbase.com/v2/prices/eth-USD/spot'\n",
    "response = rq.get(api)\n",
    "response\n",
    "data = response.json()\n",
    "data"
   ]
  },
  {
   "cell_type": "code",
   "execution_count": 16,
   "id": "48ff62d0",
   "metadata": {},
   "outputs": [
    {
     "data": {
      "text/plain": [
       "dict_keys(['data'])"
      ]
     },
     "execution_count": 16,
     "metadata": {},
     "output_type": "execute_result"
    }
   ],
   "source": [
    "data.keys()"
   ]
  },
  {
   "cell_type": "code",
   "execution_count": 21,
   "id": "98891b47",
   "metadata": {},
   "outputs": [
    {
     "data": {
      "text/plain": [
       "dict_values([{'amount': '4168.305', 'base': 'ETH', 'currency': 'USD'}])"
      ]
     },
     "execution_count": 21,
     "metadata": {},
     "output_type": "execute_result"
    }
   ],
   "source": [
    "data.values()"
   ]
  },
  {
   "cell_type": "code",
   "execution_count": 19,
   "id": "3ffb409f",
   "metadata": {},
   "outputs": [
    {
     "data": {
      "text/html": [
       "<div>\n",
       "<style scoped>\n",
       "    .dataframe tbody tr th:only-of-type {\n",
       "        vertical-align: middle;\n",
       "    }\n",
       "\n",
       "    .dataframe tbody tr th {\n",
       "        vertical-align: top;\n",
       "    }\n",
       "\n",
       "    .dataframe thead th {\n",
       "        text-align: right;\n",
       "    }\n",
       "</style>\n",
       "<table border=\"1\" class=\"dataframe\">\n",
       "  <thead>\n",
       "    <tr style=\"text-align: right;\">\n",
       "      <th></th>\n",
       "      <th>data</th>\n",
       "    </tr>\n",
       "  </thead>\n",
       "  <tbody>\n",
       "    <tr>\n",
       "      <th>amount</th>\n",
       "      <td>4168.305</td>\n",
       "    </tr>\n",
       "    <tr>\n",
       "      <th>base</th>\n",
       "      <td>ETH</td>\n",
       "    </tr>\n",
       "    <tr>\n",
       "      <th>currency</th>\n",
       "      <td>USD</td>\n",
       "    </tr>\n",
       "  </tbody>\n",
       "</table>\n",
       "</div>"
      ],
      "text/plain": [
       "              data\n",
       "amount    4168.305\n",
       "base           ETH\n",
       "currency       USD"
      ]
     },
     "execution_count": 19,
     "metadata": {},
     "output_type": "execute_result"
    }
   ],
   "source": [
    "import pandas as pd\n",
    "df = pd.DataFrame(data)\n",
    "df"
   ]
  },
  {
   "cell_type": "code",
   "execution_count": 22,
   "id": "3b82baf2",
   "metadata": {},
   "outputs": [
    {
     "data": {
      "text/plain": [
       "{'data': {'amount': '4168.305', 'base': 'ETH', 'currency': 'USD'}}"
      ]
     },
     "execution_count": 22,
     "metadata": {},
     "output_type": "execute_result"
    }
   ],
   "source": [
    "data"
   ]
  },
  {
   "cell_type": "code",
   "execution_count": 23,
   "id": "355755cb",
   "metadata": {},
   "outputs": [
    {
     "data": {
      "text/plain": [
       "dict"
      ]
     },
     "execution_count": 23,
     "metadata": {},
     "output_type": "execute_result"
    }
   ],
   "source": [
    "type(data)"
   ]
  },
  {
   "cell_type": "code",
   "execution_count": 24,
   "id": "5a354234",
   "metadata": {},
   "outputs": [
    {
     "data": {
      "text/plain": [
       "dict_values([{'amount': '4168.305', 'base': 'ETH', 'currency': 'USD'}])"
      ]
     },
     "execution_count": 24,
     "metadata": {},
     "output_type": "execute_result"
    }
   ],
   "source": [
    "data.values()"
   ]
  },
  {
   "cell_type": "code",
   "execution_count": 26,
   "id": "1a577b5f",
   "metadata": {},
   "outputs": [
    {
     "data": {
      "text/plain": [
       "'4168.305'"
      ]
     },
     "execution_count": 26,
     "metadata": {},
     "output_type": "execute_result"
    }
   ],
   "source": [
    "data['data']['amount']"
   ]
  },
  {
   "cell_type": "code",
   "execution_count": 29,
   "id": "18b4e75f",
   "metadata": {},
   "outputs": [
    {
     "data": {
      "text/plain": [
       "'ETH'"
      ]
     },
     "execution_count": 29,
     "metadata": {},
     "output_type": "execute_result"
    }
   ],
   "source": [
    "data['data']['base']"
   ]
  },
  {
   "cell_type": "code",
   "execution_count": null,
   "id": "a34663e7",
   "metadata": {},
   "outputs": [],
   "source": [
    "eth_data ={\n",
    "    'coin_price':data['data']['amount']\n",
    "    'coin'}"
   ]
  },
  {
   "cell_type": "code",
   "execution_count": null,
   "id": "d765506a",
   "metadata": {},
   "outputs": [],
   "source": [
    "nums = [1, 2, 3, 4, 5,6, 7, 8, 9, 10]"
   ]
  },
  {
   "cell_type": "code",
   "execution_count": 39,
   "id": "c4d82db2",
   "metadata": {},
   "outputs": [
    {
     "ename": "SyntaxError",
     "evalue": "invalid syntax. Perhaps you forgot a comma? (2616489260.py, line 1)",
     "output_type": "error",
     "traceback": [
      "\u001b[1;36m  Cell \u001b[1;32mIn[39], line 1\u001b[1;36m\u001b[0m\n\u001b[1;33m    v = {key exp: value exp for item in iterable }\u001b[0m\n\u001b[1;37m         ^\u001b[0m\n\u001b[1;31mSyntaxError\u001b[0m\u001b[1;31m:\u001b[0m invalid syntax. Perhaps you forgot a comma?\n"
     ]
    }
   ],
   "source": [
    "v = {key exp: value exp for item in iterable }\n",
    "v = {key exp: value exp for item in iterable if condition}"
   ]
  },
  {
   "cell_type": "code",
   "execution_count": 41,
   "id": "f26738fe",
   "metadata": {},
   "outputs": [
    {
     "data": {
      "text/plain": [
       "{7: 49, 8: 64, 9: 81, 10: 100}"
      ]
     },
     "execution_count": 41,
     "metadata": {},
     "output_type": "execute_result"
    }
   ],
   "source": [
    " square_id = {num: num*num for num in nums if num > 6}\n",
    "square_id"
   ]
  },
  {
   "cell_type": "code",
   "execution_count": null,
   "id": "3130805c",
   "metadata": {},
   "outputs": [],
   "source": []
  }
 ],
 "metadata": {
  "kernelspec": {
   "display_name": "base",
   "language": "python",
   "name": "python3"
  },
  "language_info": {
   "codemirror_mode": {
    "name": "ipython",
    "version": 3
   },
   "file_extension": ".py",
   "mimetype": "text/x-python",
   "name": "python",
   "nbconvert_exporter": "python",
   "pygments_lexer": "ipython3",
   "version": "3.12.7"
  }
 },
 "nbformat": 4,
 "nbformat_minor": 5
}
