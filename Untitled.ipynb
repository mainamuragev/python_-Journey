{
 "cells": [
  {
   "cell_type": "code",
   "execution_count": 2,
   "id": "4c751603-9714-423c-9dc8-fabd04af6e5f",
   "metadata": {},
   "outputs": [
    {
     "name": "stdout",
     "output_type": "stream",
     "text": [
      "we can transport 120 people today.\n"
     ]
    }
   ],
   "source": [
    "cars_driven = 30\n",
    "space_in_a_car =4\n",
    "carpool_capacity = cars_driven * space_in_a_car\n",
    "print(\"we can transport\",carpool_capacity,\"people today.\")"
   ]
  },
  {
   "cell_type": "code",
   "execution_count": null,
   "id": "8eb34882-46dc-4496-ba9b-50f1301e8df6",
   "metadata": {},
   "outputs": [],
   "source": []
  }
 ],
 "metadata": {
  "kernelspec": {
   "display_name": "Python 3 (ipykernel)",
   "language": "python",
   "name": "python3"
  },
  "language_info": {
   "codemirror_mode": {
    "name": "ipython",
    "version": 3
   },
   "file_extension": ".py",
   "mimetype": "text/x-python",
   "name": "python",
   "nbconvert_exporter": "python",
   "pygments_lexer": "ipython3",
   "version": "3.11.9"
  }
 },
 "nbformat": 4,
 "nbformat_minor": 5
}
