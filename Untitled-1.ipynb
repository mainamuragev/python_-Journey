{
 "cells": [
  {
   "cell_type": "code",
   "execution_count": 2,
   "id": "94f2d4a4",
   "metadata": {},
   "outputs": [
    {
     "data": {
      "text/plain": [
       "20"
      ]
     },
     "execution_count": 2,
     "metadata": {},
     "output_type": "execute_result"
    }
   ],
   "source": [
    "age = input(\"Enter your age: \")\n",
    "age = int(age)\n",
    "age"
   ]
  },
  {
   "cell_type": "code",
   "execution_count": null,
   "id": "0656d102",
   "metadata": {},
   "outputs": [],
   "source": []
  },
  {
   "cell_type": "code",
   "execution_count": null,
   "id": "84ecaaae",
   "metadata": {},
   "outputs": [
    {
     "name": "stdout",
     "output_type": "stream",
     "text": [
      "The sum of 10 and 5 is 15\n"
     ]
    }
   ],
   "source": [
    "x=10\n",
    "y=5\n",
    "sum = x + y\n",
    "print(\"The sum of\", x, \"and\", y, \"is\", sum)"
   ]
  },
  {
   "cell_type": "code",
   "execution_count": 6,
   "id": "18e7c1af",
   "metadata": {},
   "outputs": [
    {
     "ename": "SyntaxError",
     "evalue": "invalid decimal literal (1170923759.py, line 1)",
     "output_type": "error",
     "traceback": [
      "\u001b[1;36m  Cell \u001b[1;32mIn[6], line 1\u001b[1;36m\u001b[0m\n\u001b[1;33m    2ndName = \"John\"\u001b[0m\n\u001b[1;37m    ^\u001b[0m\n\u001b[1;31mSyntaxError\u001b[0m\u001b[1;31m:\u001b[0m invalid decimal literal\n"
     ]
    }
   ],
   "source": [
    "\n",
    "2ndName = \"John\"\n",
    "print(2ndName)"
   ]
  },
  {
   "cell_type": "code",
   "execution_count": 7,
   "id": "772a4926",
   "metadata": {},
   "outputs": [
    {
     "name": "stdout",
     "output_type": "stream",
     "text": [
      "Hello, World!\n"
     ]
    }
   ],
   "source": [
    "greetings = \"Hello, World!\"\n",
    "print(greetings)"
   ]
  },
  {
   "cell_type": "code",
   "execution_count": 8,
   "id": "454dfdd7",
   "metadata": {},
   "outputs": [
    {
     "name": "stdout",
     "output_type": "stream",
     "text": [
      "<class 'int'>\n",
      "<class 'float'>\n",
      "<class 'str'>\n"
     ]
    }
   ],
   "source": [
    "print(type(42))\n",
    "print(type(3.14))\n",
    "print(type('hello'))"
   ]
  },
  {
   "cell_type": "code",
   "execution_count": 9,
   "id": "f97cc554",
   "metadata": {},
   "outputs": [
    {
     "name": "stdout",
     "output_type": "stream",
     "text": [
      "100\n",
      "<class 'int'>\n"
     ]
    }
   ],
   "source": [
    "num_str = '100'\n",
    "num_int = int(num_str)\n",
    "print(num_int)\n",
    "print(type(num_int))"
   ]
  },
  {
   "cell_type": "code",
   "execution_count": 10,
   "id": "2d3151d0",
   "metadata": {},
   "outputs": [
    {
     "name": "stdout",
     "output_type": "stream",
     "text": [
      "7.5\n"
     ]
    }
   ],
   "source": [
    "result = 5 + 2.5\n",
    "\n",
    "print(result)"
   ]
  },
  {
   "cell_type": "code",
   "execution_count": 11,
   "id": "5628f671",
   "metadata": {},
   "outputs": [
    {
     "name": "stdout",
     "output_type": "stream",
     "text": [
      "hello hello hello \n"
     ]
    }
   ],
   "source": [
    "text = 'hello '\n",
    "result = text * 3\n",
    "print(result)"
   ]
  },
  {
   "cell_type": "code",
   "execution_count": 14,
   "id": "cc34ffcc",
   "metadata": {},
   "outputs": [
    {
     "name": "stdout",
     "output_type": "stream",
     "text": [
      "You entered:  and \n"
     ]
    }
   ],
   "source": [
    "\n",
    "num1_str = input(\"Enter the first number:1 \")\n",
    "num2_str = input(\"Enter the second number:2 \")\n",
    "\n",
    "print(\"You entered:\", num1_str, \"and\", num2_str)"
   ]
  },
  {
   "cell_type": "code",
   "execution_count": 15,
   "id": "817e741f",
   "metadata": {},
   "outputs": [
    {
     "name": "stdout",
     "output_type": "stream",
     "text": [
      "SQL SQL SQL \n"
     ]
    }
   ],
   "source": [
    "text = \"SQL \"\n",
    "result = text * 3\n",
    "print(result)"
   ]
  },
  {
   "cell_type": "code",
   "execution_count": 39,
   "id": "72f49988",
   "metadata": {},
   "outputs": [
    {
     "ename": "SyntaxError",
     "evalue": "invalid syntax (4074337790.py, line 6)",
     "output_type": "error",
     "traceback": [
      "\u001b[1;36m  Cell \u001b[1;32mIn[39], line 6\u001b[1;36m\u001b[0m\n\u001b[1;33m    elif age>35 > and 80\u001b[0m\n\u001b[1;37m                  ^\u001b[0m\n\u001b[1;31mSyntaxError\u001b[0m\u001b[1;31m:\u001b[0m invalid syntax\n"
     ]
    }
   ],
   "source": [
    "age = 74\n",
    "if age > 18:\n",
    "    print(\"You can join the regular members\")\n",
    "elif age < 18:\n",
    "    print(\"You can join the junior members\")\n",
    "elif age>35 > and 80\n",
    "    print(\"You can join the vvip memebers\")\n",
    "else:\n",
    "    print(\"You cannot join the event\") \n"
   ]
  },
  {
   "cell_type": "code",
   "execution_count": 40,
   "id": "10d328e7",
   "metadata": {},
   "outputs": [],
   "source": [
    "nums = [1, 2, 3, 4, 5,6,7,8,9,10]\n"
   ]
  },
  {
   "cell_type": "code",
   "execution_count": 45,
   "id": "64b57658",
   "metadata": {},
   "outputs": [
    {
     "name": "stdout",
     "output_type": "stream",
     "text": [
      "1\n",
      "2\n",
      "3\n",
      "4\n",
      "5\n",
      "6\n",
      "7\n",
      "8\n",
      "9\n",
      "10\n"
     ]
    }
   ],
   "source": [
    "for num in nums:\n",
    "    print(num)"
   ]
  },
  {
   "cell_type": "code",
   "execution_count": 46,
   "id": "2c545bfe",
   "metadata": {},
   "outputs": [],
   "source": [
    "salaries = [1000, 2000, 3000, 4000, 5000]\n"
   ]
  },
  {
   "cell_type": "code",
   "execution_count": 47,
   "id": "cb903254",
   "metadata": {},
   "outputs": [
    {
     "name": "stdout",
     "output_type": "stream",
     "text": [
      "1200.0\n",
      "2400.0\n",
      "3600.0\n",
      "4800.0\n",
      "6000.0\n"
     ]
    }
   ],
   "source": [
    "for salary in salaries:\n",
    "    increment = salary *1.2\n",
    "    print(increment)"
   ]
  },
  {
   "cell_type": "code",
   "execution_count": 48,
   "id": "b397a52a",
   "metadata": {},
   "outputs": [],
   "source": [
    "fruits=['mango', 'banana', 'orange', 'aPPle']\n"
   ]
  },
  {
   "cell_type": "code",
   "execution_count": 51,
   "id": "8b613558",
   "metadata": {},
   "outputs": [],
   "source": [
    "fruitz=[]"
   ]
  },
  {
   "cell_type": "code",
   "execution_count": null,
   "id": "4a229f65",
   "metadata": {},
   "outputs": [
    {
     "ename": "AttributeError",
     "evalue": "'str' object has no attribute 'capatalize'",
     "output_type": "error",
     "traceback": [
      "\u001b[1;31m---------------------------------------------------------------------------\u001b[0m",
      "\u001b[1;31mAttributeError\u001b[0m                            Traceback (most recent call last)",
      "Cell \u001b[1;32mIn[54], line 2\u001b[0m\n\u001b[0;32m      1\u001b[0m \u001b[38;5;28;01mfor\u001b[39;00m fruit \u001b[38;5;129;01min\u001b[39;00m fruits :\n\u001b[1;32m----> 2\u001b[0m     fruity \u001b[38;5;241m=\u001b[39m fruit\u001b[38;5;241m.\u001b[39mcapatalize()\n\u001b[0;32m      3\u001b[0m     fruitz\u001b[38;5;241m.\u001b[39mappend(fruity)\n\u001b[0;32m      4\u001b[0m     \u001b[38;5;28mprint\u001b[39m(fruity)\n",
      "\u001b[1;31mAttributeError\u001b[0m: 'str' object has no attribute 'capatalize'"
     ]
    }
   ],
   "source": [
    "for fruit in fruits :\n",
    "    fruity = fruit.capatalize()\n",
    "    fruitz.append(fruity)\n",
    "    print(fruity)"
   ]
  },
  {
   "cell_type": "code",
   "execution_count": 15,
   "id": "3ebe58ab",
   "metadata": {},
   "outputs": [
    {
     "name": "stdout",
     "output_type": "stream",
     "text": [
      "6 7 8 9 10 "
     ]
    }
   ],
   "source": [
    "num = 6\n",
    "while num <= 10:\n",
    "    print(num, end=' ')\n",
    "    num += 1"
   ]
  },
  {
   "cell_type": "code",
   "execution_count": 16,
   "id": "23ef07af",
   "metadata": {},
   "outputs": [],
   "source": [
    "nums = [1, 2, 3, 4, 5, 6, 7, 8, 9, 10]"
   ]
  },
  {
   "cell_type": "code",
   "execution_count": 18,
   "id": "c10eb2ee",
   "metadata": {},
   "outputs": [
    {
     "ename": "IndentationError",
     "evalue": "expected an indented block after 'if' statement on line 2 (2575962397.py, line 3)",
     "output_type": "error",
     "traceback": [
      "\u001b[1;36m  Cell \u001b[1;32mIn[18], line 3\u001b[1;36m\u001b[0m\n\u001b[1;33m    break\u001b[0m\n\u001b[1;37m    ^\u001b[0m\n\u001b[1;31mIndentationError\u001b[0m\u001b[1;31m:\u001b[0m expected an indented block after 'if' statement on line 2\n"
     ]
    }
   ],
   "source": [
    "for num in nums:\n",
    "    if num == 1:\n",
    "    break \n",
    "    print(num, end=\"\")"
   ]
  },
  {
   "cell_type": "code",
   "execution_count": null,
   "id": "dc4b36f0",
   "metadata": {},
   "outputs": [
    {
     "name": "stdout",
     "output_type": "stream",
     "text": [
      "2345678910"
     ]
    }
   ],
   "source": []
  },
  {
   "cell_type": "code",
   "execution_count": 20,
   "id": "8aa3086b",
   "metadata": {},
   "outputs": [
    {
     "name": "stdout",
     "output_type": "stream",
     "text": [
      "1234578910"
     ]
    }
   ],
   "source": [
    "for num in nums:\n",
    "    if num == 6:\n",
    "        continue\n",
    "    print(num, end=\"\")"
   ]
  },
  {
   "cell_type": "code",
   "execution_count": 21,
   "id": "ac653fbc",
   "metadata": {},
   "outputs": [
    {
     "data": {
      "text/plain": [
       "[1, 2, 3, 4, 5, 6, 7, 8, 9, 10]"
      ]
     },
     "execution_count": 21,
     "metadata": {},
     "output_type": "execute_result"
    }
   ],
   "source": [
    "nums"
   ]
  },
  {
   "cell_type": "code",
   "execution_count": 22,
   "id": "1a8435c6",
   "metadata": {},
   "outputs": [
    {
     "name": "stdout",
     "output_type": "stream",
     "text": [
      "1\n",
      "2\n",
      "3\n",
      "4\n",
      "5\n",
      "6\n",
      "7\n",
      "8\n",
      "9\n",
      "10\n",
      "Loop completed without interruption.\n"
     ]
    }
   ],
   "source": [
    "for num in nums:\n",
    "    print(num)\n",
    "else:\n",
    "    print(\"Loop completed without interruption.\")"
   ]
  },
  {
   "cell_type": "code",
   "execution_count": null,
   "id": "5e02f443",
   "metadata": {},
   "outputs": [],
   "source": [
    "def fuc_name():\n",
    "    print(\"This is a function with no parameters.\")"
   ]
  },
  {
   "cell_type": "code",
   "execution_count": 23,
   "id": "48162f8f",
   "metadata": {},
   "outputs": [],
   "source": [
    "def salary_rise():\n",
    "    salaries = [1000, 2000, 3000, 4000, 5000]\n",
    "    for salary in salaries:\n",
    "        increment = salary * 1.2\n",
    "        print(increment)"
   ]
  },
  {
   "cell_type": "code",
   "execution_count": 24,
   "id": "ed54a255",
   "metadata": {},
   "outputs": [
    {
     "name": "stdout",
     "output_type": "stream",
     "text": [
      "1200.0\n",
      "2400.0\n",
      "3600.0\n",
      "4800.0\n",
      "6000.0\n"
     ]
    }
   ],
   "source": [
    "salary_rise()"
   ]
  },
  {
   "cell_type": "code",
   "execution_count": 25,
   "id": "cf871395",
   "metadata": {},
   "outputs": [],
   "source": [
    "def salary_rise(salaries):\n",
    "    for salary in salaries:\n",
    "        increment = salary * 1.2\n",
    "        print(increment)"
   ]
  },
  {
   "cell_type": "code",
   "execution_count": 27,
   "id": "693d8ac6",
   "metadata": {},
   "outputs": [
    {
     "ename": "SyntaxError",
     "evalue": "invalid syntax (4236574247.py, line 1)",
     "output_type": "error",
     "traceback": [
      "\u001b[1;36m  Cell \u001b[1;32mIn[27], line 1\u001b[1;36m\u001b[0m\n\u001b[1;33m    salary_rise(salaries):\u001b[0m\n\u001b[1;37m                         ^\u001b[0m\n\u001b[1;31mSyntaxError\u001b[0m\u001b[1;31m:\u001b[0m invalid syntax\n"
     ]
    }
   ],
   "source": [
    "salary_rise(salaries):"
   ]
  },
  {
   "cell_type": "code",
   "execution_count": 1,
   "id": "86f257ba",
   "metadata": {},
   "outputs": [
    {
     "name": "stdout",
     "output_type": "stream",
     "text": [
      "1\n",
      "2\n",
      "3\n",
      "4\n",
      "5\n",
      "6\n",
      "7\n",
      "8\n",
      "9\n",
      "10\n"
     ]
    }
   ],
   "source": [
    "#Use a for loop to print numbers from 1 to 10.\n",
    "for num in range (1,11):\n",
    "    print(num)\n"
   ]
  },
  {
   "cell_type": "code",
   "execution_count": 2,
   "id": "1702b239",
   "metadata": {},
   "outputs": [
    {
     "name": "stdout",
     "output_type": "stream",
     "text": [
      "1\n"
     ]
    }
   ],
   "source": [
    "#Use a while loop to print numbers until the user enters stop.\n",
    "count = 1\n",
    "while True:\n",
    "    user_input = input(\"Type 'stop' to end or press to continue : \")\n",
    "    if user_input.lower() == 'stop':\n",
    "        break \n",
    "    print(count)\n",
    "    count += 1"
   ]
  },
  {
   "cell_type": "code",
   "execution_count": 3,
   "id": "5ce1bf5e",
   "metadata": {},
   "outputs": [
    {
     "name": "stdout",
     "output_type": "stream",
     "text": [
      "2\n",
      "4\n",
      "6\n",
      "8\n",
      "10\n",
      "12\n",
      "14\n",
      "16\n",
      "18\n",
      "20\n"
     ]
    }
   ],
   "source": [
    "#Write a loop that prints even numbers from 1 to 20.\n",
    "for num in range (1, 21):\n",
    "    if num % 2 == 0:\n",
    "        print(num)"
   ]
  },
  {
   "cell_type": "code",
   "execution_count": null,
   "id": "cf907213",
   "metadata": {},
   "outputs": [],
   "source": [
    "#Explain what break and continue do in your own words.\n",
    "break = exit the loop entirely.\n",
    "continue = skip this iteration, keep looping.\n"
   ]
  },
  {
   "cell_type": "code",
   "execution_count": null,
   "id": "cc671831",
   "metadata": {},
   "outputs": [
    {
     "name": "stdout",
     "output_type": "stream",
     "text": [
      "❌ Nope, try again.\n",
      "❌ Nope, try again.\n",
      "❌ Nope, try again.\n",
      "❌ Nope, try again.\n",
      "Please enter a valid number.\n",
      "❌ Nope, try again.\n",
      "❌ Nope, try again.\n",
      "❌ Nope, try again.\n",
      "❌ Nope, try again.\n",
      "❌ Nope, try again.\n",
      "❌ Nope, try again.\n",
      "❌ Nope, try again.\n",
      "🎉 Correct! You guessed the secret number.\n"
     ]
    }
   ],
   "source": [
    "import random\n",
    "\n",
    "secret_number = random.randint(1, 10)\n",
    "\n",
    "while True:\n",
    "    guess = input(\"Guess the secret number between 1 and 10: \")\n",
    "    \n",
    "    if not guess.isdigit():\n",
    "        print(\"Please enter a valid number.\")\n",
    "        continue\n",
    "\n",
    "    guess = int(guess)\n",
    "\n",
    "    if guess == secret_number:\n",
    "        print(\"🎉 Correct! You guessed the secret number.\")\n",
    "        break\n",
    "    else:\n",
    "        print(\"❌ Nope, try again.\")9\n",
    "        "
   ]
  },
  {
   "cell_type": "code",
   "execution_count": 9,
   "id": "96e1e2a3",
   "metadata": {},
   "outputs": [
    {
     "name": "stdout",
     "output_type": "stream",
     "text": [
      "Too low! The secret number was 7\n"
     ]
    }
   ],
   "source": [
    "import random\n",
    "guess = int(input(\"Guess a number between 1 and 10: \"))\n",
    "if guess == secret_number:\n",
    "    print(\"Congratulations! You guessed the secret number.\")\n",
    "elif guess < secret_number:\n",
    "    print(\"Too low! The secret number was\", secret_number)\n",
    "else:\n",
    "    print(\"Too high! The secret number was\", secret_number)"
   ]
  }
 ],
 "metadata": {
  "kernelspec": {
   "display_name": "base",
   "language": "python",
   "name": "python3"
  },
  "language_info": {
   "codemirror_mode": {
    "name": "ipython",
    "version": 3
   },
   "file_extension": ".py",
   "mimetype": "text/x-python",
   "name": "python",
   "nbconvert_exporter": "python",
   "pygments_lexer": "ipython3",
   "version": "3.12.7"
  }
 },
 "nbformat": 4,
 "nbformat_minor": 5
}
